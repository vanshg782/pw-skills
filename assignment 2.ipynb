{
 "cells": [
  {
   "cell_type": "markdown",
   "metadata": {},
   "source": [
    "ASSIGNMENT-2"
   ]
  },
  {
   "cell_type": "code",
   "execution_count": 40,
   "metadata": {},
   "outputs": [
    {
     "name": "stdout",
     "output_type": "stream",
     "text": [
      "olleh\n",
      "3\n",
      "The string is a palindrome.\n",
      "True\n",
      "False\n",
      "[2, 4]\n",
      "a3b2c1\n",
      "True\n",
      "False\n",
      "HELLO\n",
      "world\n",
      "5\n",
      "helloworld\n",
      "helloworld\n"
     ]
    }
   ],
   "source": [
    "#1 Write a code to reverse a string \n",
    "def reverse_string(s):\n",
    "    return s[::-1]\n",
    "\n",
    "print(reverse_string(\"hello\")) \n",
    "\n",
    "\n",
    "#2 Write a code to count the number of vowels in a string\n",
    "def count_vowels(s):\n",
    "    vowels = \"aeiouAEIOU\"\n",
    "    return sum(1 for char in s if char in vowels)\n",
    "print(count_vowels(\"hello world\"))  \n",
    "\n",
    "\n",
    "#3 Write a code to check if a given string is a palindrome or not\n",
    "def is_palindrome(s):\n",
    "    # Remove spaces and convert to lowercase for a case-insensitive comparison\n",
    "    s = s.replace(\" \", \"\").lower()\n",
    "    \n",
    "    # Check if the string is equal to its reverse\n",
    "    return s == s[::-1]\n",
    "\n",
    "# Example usage\n",
    "input_string = input(\"Enter a string: \")\n",
    "if is_palindrome(input_string):\n",
    "    print(\"The string is a palindrome.\")\n",
    "else:\n",
    "    print(\"The string is not a palindrome.\")\n",
    "\n",
    "\n",
    "\n",
    "#4.\tWrite a code to check if two given strings ore anagrams of each other.\n",
    "def are_anagrams(s1, s2):\n",
    "    return sorted(s1) == sorted(s2)\n",
    "print(are_anagrams(\"listen\", \"silent\"))  \n",
    "print(are_anagrams(\"hello\", \"world\"))    \n",
    "\n",
    "\n",
    "#5.\tWrite a code to find all occurrences of a given substring within another string.\n",
    "def find_substring_occurrences(string, substring):\n",
    "    indices = []\n",
    "    start = 0\n",
    "    while True:\n",
    "        start = string.find(substring, start)\n",
    "        if start == -1:\n",
    "            break\n",
    "        indices.append(start)\n",
    "        start += 1\n",
    "    return indices\n",
    "print(find_substring_occurrences(\"banana\", \"na\"))  \n",
    "\n",
    "\n",
    "#6.\tWrite a code to perform basic string compression using the counts of repeated characters.\n",
    "def string_compression(s):\n",
    "    compressed = []\n",
    "    count = 1\n",
    "    for i in range(1, len(s)):\n",
    "        if s[i] == s[i - 1]:\n",
    "            count += 1\n",
    "        else:\n",
    "            compressed.append(f\"{s[i - 1]}{count}\")\n",
    "            count = 1\n",
    "    compressed.append(f\"{s[-1]}{count}\")\n",
    "    return ''.join(compressed)\n",
    "print(string_compression(\"aaabbc\"))  \n",
    "\n",
    "\n",
    "#7.\tWrite a code to determine if a string has all unique characters.\n",
    "def has_unique_chars(s):\n",
    "    return len(set(s)) == len(s)\n",
    "print(has_unique_chars(\"abcdef\")) \n",
    "print(has_unique_chars(\"aabbcc\")) \n",
    "\n",
    "\n",
    "#8.\tWrite a code to convert a given string to uppercase or lowercase.\n",
    "def to_uppercase(s):\n",
    "    return s.upper()\n",
    "def to_lowercase(s):\n",
    "    return s.lower()\n",
    "print(to_uppercase(\"hello\")) \n",
    "print(to_lowercase(\"WORLD\"))  \n",
    "\n",
    "\n",
    "#9.\tWrite a code to count the number of words in a string.\n",
    "def count_words(s):\n",
    "    return len(s.split())\n",
    "\n",
    "print(count_words(\"Hello world this is Python\"))  # Output: 5\n",
    "\n",
    "\n",
    "#10.\tWrite a code to concotenote two strings without using the + operator.\n",
    "def concatenate_strings(s1, s2):\n",
    "    return \"\".join([s1, s2])\n",
    "\n",
    "print(concatenate_strings(\"hello\", \"world\"))  # Output: \"helloworld\"\n",
    "\n",
    "\n",
    "#11. Write a code to remove all occurrences of a specific element  from a list.\n",
    "def concatenate_strings(s1, s2):\n",
    "    return \"\".join([s1, s2])\n",
    "\n",
    "string1 = \"hello\"\n",
    "string2 = \"world\"\n",
    "result = concatenate_strings(string1, string2)\n",
    "print(result)  # Output: \"helloworld\"\n",
    "\n"
   ]
  },
  {
   "cell_type": "markdown",
   "metadata": {},
   "source": [
    "12. Implement a code to find the second largest number in a given list of integers\n",
    "def second_largest(lst):\n",
    "    unique_sorted = sorted(set(lst), reverse=True)\n",
    "    return unique_sorted[1] if len(unique_sorted) > 1 else None\n",
    "\n",
    "# Example usage:\n",
    "my_list = [10, 20, 20, 40, 30]\n",
    "result = second_largest(my_list)\n",
    "print(result)  # Output: 30\n",
    "\n",
    "13. Create a code to count the occurrences of each element in a list and return a dictionary with elements as\n",
    "keys and their counts as values\n",
    "def count_occurrences(lst):\n",
    "    counts = {}\n",
    "    for item in lst:\n",
    "        counts[item] = counts.get(item, 0) + 1\n",
    "    return counts\n",
    "\n",
    "# Example usage:\n",
    "my_list = [1, 2, 2, 3, 3, 3, 4]\n",
    "result = count_occurrences(my_list)\n",
    "print(result)  # Output: {1: 1, 2: 2, 3: 3, 4: 1}\n",
    "\n",
    "14. Write a code to reverse a list in-place without using any built-in reverse functions\n",
    "def reverse_list(lst):\n",
    "    left, right = 0, len(lst) - 1\n",
    "    while left < right:\n",
    "        lst[left], lst[right] = lst[right], lst[left]\n",
    "        left += 1\n",
    "        right -= 1\n",
    "\n",
    "# Example usage:\n",
    "my_list = [1, 2, 3, 4, 5]\n",
    "reverse_list(my_list)\n",
    "print(my_list)  # Output: [5, 4, 3, 2, 1]\n",
    "\n",
    "15. Implement a code to find and remove duplicates from a list while preserving the original order of\n",
    "elements\n",
    "def remove_duplicates(lst):\n",
    "    seen = set()\n",
    "    result = []\n",
    "    for item in lst:\n",
    "        if item not in seen:\n",
    "            result.append(item)\n",
    "            seen.add(item)\n",
    "    return result\n",
    "\n",
    "# Example usage:\n",
    "my_list = [1, 2, 2, 3, 3, 4, 4, 5]\n",
    "result = remove_duplicates(my_list)\n",
    "print(result)  # Output: [1, 2, 3, 4, 5]\n",
    "\n",
    "\n",
    "16. Create a code to check if a given list is sorted (either in ascending or descending order) or not\n",
    "def is_sorted(lst):\n",
    "    if lst == sorted(lst):\n",
    "        return \"List is sorted in ascending order\"\n",
    "    elif lst == sorted(lst, reverse=True):\n",
    "        return \"List is sorted in descending order\"\n",
    "    else:\n",
    "        return \"List is not sorted\"\n",
    "\n",
    "# Example usage:\n",
    "my_list1 = [1, 2, 3, 4]\n",
    "my_list2 = [4, 3, 2, 1]\n",
    "my_list3 = [1, 3, 2, 4]\n",
    "\n",
    "print(is_sorted(my_list1))  # Output: List is sorted in ascending order\n",
    "print(is_sorted(my_list2))  # Output: List is sorted in descending order\n",
    "print(is_sorted(my_list3))  # Output: List is not sorted\n",
    "\n"
   ]
  },
  {
   "cell_type": "markdown",
   "metadata": {},
   "source": [
    "17. Write a code to merge two sorted lists into a single sorted list\n",
    "def merge_sorted_lists(lst1, lst2):\n",
    "    i, j = 0, 0\n",
    "    merged = []\n",
    "    while i < len(lst1) and j < len(lst2):\n",
    "        if lst1[i] < lst2[j]:\n",
    "            merged.append(lst1[i])\n",
    "            i += 1\n",
    "        else:\n",
    "            merged.append(lst2[j])\n",
    "            j += 1\n",
    "    merged.extend(lst1[i:])\n",
    "    merged.extend(lst2[j:])\n",
    "    return merged\n",
    "\n",
    "# Example usage:\n",
    "list1 = [1, 3, 5]\n",
    "list2 = [2, 4, 6]\n",
    "print(merge_sorted_lists(list1, list2))  # Output: [1, 2, 3, 4, 5, 6]\n",
    "\n",
    "18. Implement a code to find the intersection of two given lists\n",
    "def find_intersection(lst1, lst2):\n",
    "    return [item for item in lst1 if item in lst2]\n",
    "\n",
    "# Example usage:\n",
    "list1 = [1, 2, 3, 4]\n",
    "list2 = [3, 4, 5, 6]\n",
    "print(find_intersection(list1, list2))  # Output: [3, 4]\n",
    "\n",
    "19. Create a code to find the union of two lists without duplicates\n",
    "def find_union(lst1, lst2):\n",
    "    return list(set(lst1) | set(lst2))\n",
    "\n",
    "# Example usage:\n",
    "list1 = [1, 2, 3]\n",
    "list2 = [3, 4, 5]\n",
    "print(find_union(list1, list2))  # Output: [1, 2, 3, 4, 5]\n",
    "\n",
    "20. Write a code to shuffle a given list randomly without using any built-in shuffle functions\n",
    "import random\n",
    "\n",
    "def shuffle_list(lst):\n",
    "    for i in range(len(lst) - 1, 0, -1):\n",
    "        j = random.randint(0, i)\n",
    "        lst[i], lst[j] = lst[j], lst[i]\n",
    "\n",
    "# Example usage:\n",
    "my_list = [1, 2, 3, 4, 5]\n",
    "shuffle_list(my_list)\n",
    "print(my_list)  # Output: A random permutation of the list\n",
    "\n",
    "21. Write a code that takes two tuples as input and returns a new tuple containing elements that are\n",
    "common to both input tuples\n",
    "def common_elements(tuple1, tuple2):\n",
    "    return tuple(set(tuple1) & set(tuple2))\n",
    "\n",
    "# Example usage:\n",
    "tuple1 = (1, 2, 3, 4)\n",
    "tuple2 = (3, 4, 5, 6)\n",
    "print(common_elements(tuple1, tuple2))  # Output: (3, 4)\n",
    "\n",
    "22. Create a code that prompts the user to enter two sets of integers separated by commas. Then, print the\n",
    "intersection of these two sets\n",
    "def set_intersection():\n",
    "    set1 = set(map(int, input(\"Enter the first set of integers, separated by commas: \").split(',')))\n",
    "    set2 = set(map(int, input(\"Enter the second set of integers, separated by commas: \").split(',')))\n",
    "    print(\"Intersection:\", set1 & set2)\n",
    "\n",
    "# Example usage:\n",
    "# Input: \n",
    "# 1,2,3\n",
    "# 3,4,5\n",
    "# Output: Intersection: {3}\n",
    "\n",
    "23. Write a code to concatenate two tuples. The function should take two tuples as input and return a new\n",
    "tuple containing elements from both input tuples.\n",
    "def concatenate_tuples(tuple1, tuple2):\n",
    "    return tuple1 + tuple2\n",
    "\n",
    "# Example usage:\n",
    "tuple1 = (1, 2, 3)\n",
    "tuple2 = (4, 5, 6)\n",
    "print(concatenate_tuples(tuple1, tuple2))  # Output: (1, 2, 3, 4, 5, 6)\n"
   ]
  },
  {
   "cell_type": "markdown",
   "metadata": {},
   "source": [
    "24. Develop a code that prompts the user to input two sets of strings. Then, print the elements that are\n",
    "present in the first set but not in the second set&"
   ]
  },
  {
   "cell_type": "code",
   "execution_count": 30,
   "metadata": {},
   "outputs": [
    {
     "name": "stdout",
     "output_type": "stream",
     "text": [
      "Elements present in the first set but not in the second set:\n",
      "set()\n"
     ]
    }
   ],
   "source": [
    "\n",
    "def get_input():\n",
    "    user_input = input(\"Enter a set of strings (separate by space): \")\n",
    "    return set(user_input.split())\n",
    "set1 = get_input()\n",
    "set2 = get_input()\n",
    "difference = set1 - set2\n",
    "print(\"Elements present in the first set but not in the second set:\")\n",
    "print(difference)\n"
   ]
  },
  {
   "cell_type": "markdown",
   "metadata": {},
   "source": [
    "25. Create a code that takes a tuple and two integers as input. The function should return a new tuple\n",
    "containing elements from the original tuple within the specified range of indices&"
   ]
  },
  {
   "cell_type": "code",
   "execution_count": 31,
   "metadata": {},
   "outputs": [
    {
     "name": "stdout",
     "output_type": "stream",
     "text": [
      "(2, 3, 4)\n"
     ]
    }
   ],
   "source": [
    "def slice_tuple(tpl, start, end):\n",
    "    return tpl[start:end]\n",
    "\n",
    "\n",
    "my_tuple = (1, 2, 3, 4, 5)\n",
    "start_index = 1\n",
    "end_index = 4\n",
    "print(slice_tuple(my_tuple, start_index, end_index))  "
   ]
  },
  {
   "cell_type": "markdown",
   "metadata": {},
   "source": [
    "26.  a code that prompts the user to input two sets of characters. Then, print the union of these two sets&\n"
   ]
  },
  {
   "cell_type": "code",
   "execution_count": 32,
   "metadata": {},
   "outputs": [],
   "source": [
    "def set_union():\n",
    "    set1 = set(input(\"Enter characters for the first set (comma-separated): \").split(','))\n",
    "    set2 = set(input(\"Enter characters for the second set (comma-separated): \").split(','))\n",
    "    print(\"Union of the sets:\", set1 | set2)\n",
    "\n",
    "# Example usage:\n",
    "# Input:\n",
    "# a,b,c\n",
    "# b\n",
    "# Output: Union of the sets: {'a', 'b', 'c', 'd', 'e'}\n"
   ]
  },
  {
   "cell_type": "code",
   "execution_count": 33,
   "metadata": {},
   "outputs": [
    {
     "name": "stdout",
     "output_type": "stream",
     "text": [
      "Max: 40, Min: 5\n"
     ]
    }
   ],
   "source": [
    "'''27. Develop a code that takes a tuple of integers as input. The function should return the maximum and\n",
    "minimum values from the tuple using tuple unpacking&'''\n",
    "def max_min_in_tuple(tpl):\n",
    "    return max(tpl), min(tpl)\n",
    "\n",
    "\n",
    "my_tuple = (10, 20, 5, 40, 15)\n",
    "max_val, min_val = max_min_in_tuple(my_tuple)\n",
    "print(f\"Max: {max_val}, Min: {min_val}\") "
   ]
  },
  {
   "cell_type": "markdown",
   "metadata": {},
   "source": [
    "28. & Create a code that defines two sets of integers. Then, print the union, intersection, and difference of these\n",
    "two sets&\n",
    "def set_operations():\n",
    "    set1 = set(map(int, input(\"Enter integers for the first set (comma-separated): \").split(',')))\n",
    "    set2 = set(map(int, input(\"Enter integers for the second set (comma-separated): \").split(',')))\n",
    "    print(\"Union:\", set1 | set2)\n",
    "    print(\"Intersection:\", set1 & set2)\n",
    "    print(\"Difference:\", set1 - set2)\n",
    "\n",
    "# Example usage:\n",
    "# Input:\n",
    "# 1,2,3\n",
    "# 2,3,4\n",
    "# Output:\n",
    "# Union: {1, 2, 3, 4}\n",
    "# Intersection: {2, 3}\n",
    "# Difference: {1}"
   ]
  },
  {
   "cell_type": "code",
   "execution_count": 34,
   "metadata": {},
   "outputs": [
    {
     "name": "stdout",
     "output_type": "stream",
     "text": [
      "3\n"
     ]
    }
   ],
   "source": [
    "'''29. Write a code that takes a tuple and an element as input. The function should return the count of\n",
    "occurrences of the given element in the tuple&'''\n",
    "def count_element_in_tuple(tpl, elem):\n",
    "    return tpl.count(elem)\n",
    "\n",
    "\n",
    "my_tuple = (1, 2, 3, 2, 4, 2)\n",
    "element = 2\n",
    "print(count_element_in_tuple(my_tuple, element))  \n",
    "\n"
   ]
  },
  {
   "cell_type": "markdown",
   "metadata": {},
   "source": [
    "30.  Develop a code that prompts the user to input two sets of strings. Then, print the symmetric difference of\n",
    "these two sets&\n",
    "def symmetric_difference():\n",
    "    set1 = set(input(\"Enter strings for the first set (comma-separated): \").split(','))\n",
    "    set2 = set(input(\"Enter strings for the second set (comma-separated): \").split(','))\n",
    "    print(\"Symmetric Difference:\", set1 ^ set2)\n",
    "\n",
    "# Example usage:\n",
    "# Input:\n",
    "# apple,banana,grape\n",
    "# banana,kiwi,grape\n",
    "# Output: Symmetric Difference: {'apple', 'kiwi'}\n"
   ]
  },
  {
   "cell_type": "code",
   "execution_count": 35,
   "metadata": {},
   "outputs": [
    {
     "name": "stdout",
     "output_type": "stream",
     "text": [
      "{'apple': 2, 'kiwi': 1, 'banana': 3}\n"
     ]
    }
   ],
   "source": [
    "'''31.  Write a code that takes a list of words as input and returns a dictionary where the keys are unique words\n",
    "and the values are the frequencies of those words in the input list&'''\n",
    "def word_frequencies(words):\n",
    "    return {word: words.count(word) for word in set(words)}\n",
    "\n",
    "words_list = [\"apple\", \"banana\", \"apple\", \"kiwi\", \"banana\", \"banana\"]\n",
    "print(word_frequencies(words_list)) "
   ]
  },
  {
   "cell_type": "code",
   "execution_count": 36,
   "metadata": {},
   "outputs": [
    {
     "name": "stdout",
     "output_type": "stream",
     "text": [
      "{'a': 1, 'b': 5, 'c': 7, 'd': 5}\n"
     ]
    }
   ],
   "source": [
    "''' 32.  Write a code that takes two dictionaries as input and merges them into a single dictionary. If there are\n",
    "common keys, the values should be added together&'''\n",
    "def merge_dictionaries(dict1, dict2):\n",
    "    merged = dict1.copy()\n",
    "    for key, value in dict2.items():\n",
    "        merged[key] = merged.get(key, 0) + value\n",
    "    return merged\n",
    "\n",
    "# Example usage:\n",
    "dict1 = {\"a\": 1, \"b\": 2, \"c\": 3}\n",
    "dict2 = {\"b\": 3, \"c\": 4, \"d\": 5}\n",
    "print(merge_dictionaries(dict1, dict2))  # Output: {'a': 1, 'b': 5, 'c': 7, 'd': 5}"
   ]
  },
  {
   "cell_type": "code",
   "execution_count": 37,
   "metadata": {},
   "outputs": [
    {
     "name": "stdout",
     "output_type": "stream",
     "text": [
      "5\n",
      "None\n"
     ]
    }
   ],
   "source": [
    "'''33. Write a code to access a value in a nested dictionary. The function should take the dictionary and a list of\n",
    "keys as input, and return the corresponding value. If any of the keys do not exist in the dictionary, the\n",
    "function should return None&'''\n",
    "\n",
    "def access_nested_value(d, keys):\n",
    "    for key in keys:\n",
    "        if isinstance(d, dict) and key in d:\n",
    "            d = d[key]\n",
    "        else:\n",
    "            return None\n",
    "    return d\n",
    "\n",
    "nested_dict = {'a': {'b': {'c': 5}}}\n",
    "keys = ['a', 'b', 'c']\n",
    "print(access_nested_value(nested_dict, keys)) \n",
    "\n",
    "keys = ['a', 'x', 'c']\n",
    "print(access_nested_value(nested_dict, keys)) "
   ]
  },
  {
   "cell_type": "code",
   "execution_count": 38,
   "metadata": {},
   "outputs": [
    {
     "name": "stdout",
     "output_type": "stream",
     "text": [
      "{'banana': 1, 'cherry': 2, 'apple': 3}\n",
      "{'apple': 3, 'cherry': 2, 'banana': 1}\n"
     ]
    }
   ],
   "source": [
    "''' 34. Write a code that takes a dictionary as input and returns a sorted version of it based on the values. You\n",
    "can choose whether to sort in ascending or descending order&'''\n",
    "\n",
    "def sort_dict_by_values(d, ascending=True):\n",
    "    return dict(sorted(d.items(), key=lambda item: item[1], reverse=not ascending))\n",
    "my_dict = {'apple': 3, 'banana': 1, 'cherry': 2}\n",
    "print(sort_dict_by_values(my_dict))  \n",
    "print(sort_dict_by_values(my_dict, ascending=False))  "
   ]
  },
  {
   "cell_type": "code",
   "execution_count": 39,
   "metadata": {},
   "outputs": [
    {
     "name": "stdout",
     "output_type": "stream",
     "text": [
      "{1: ['a', 'c'], 2: ['b'], 3: ['d']}\n"
     ]
    }
   ],
   "source": [
    "'''35. Write a code that inverts a dictionary, swapping keys and values. Ensure that the inverted dictionary\n",
    "correctly handles cases where multiple keys have the same value by storing the keys as a list in the\n",
    "inverted dictionary.'''\n",
    "\n",
    "def invert_dict(d):\n",
    "    inverted = {}\n",
    "    for key, value in d.items():\n",
    "        if value in inverted:\n",
    "            inverted[value].append(key)\n",
    "        else:\n",
    "            inverted[value] = [key]\n",
    "    return inverted\n",
    "my_dict = {'a': 1, 'b': 2, 'c': 1, 'd': 3}\n",
    "print(invert_dict(my_dict)) "
   ]
  }
 ],
 "metadata": {
  "kernelspec": {
   "display_name": "Python 3",
   "language": "python",
   "name": "python3"
  },
  "language_info": {
   "codemirror_mode": {
    "name": "ipython",
    "version": 3
   },
   "file_extension": ".py",
   "mimetype": "text/x-python",
   "name": "python",
   "nbconvert_exporter": "python",
   "pygments_lexer": "ipython3",
   "version": "3.11.9"
  }
 },
 "nbformat": 4,
 "nbformat_minor": 2
}
